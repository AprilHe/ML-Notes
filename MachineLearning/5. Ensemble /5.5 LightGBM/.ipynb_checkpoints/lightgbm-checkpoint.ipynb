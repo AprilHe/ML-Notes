{
 "cells": [
  {
   "cell_type": "code",
   "execution_count": 2,
   "metadata": {},
   "outputs": [
    {
     "name": "stderr",
     "output_type": "stream",
     "text": [
      "/Users/april/anaconda3/lib/python3.7/site-packages/lightgbm/__init__.py:48: UserWarning: Starting from version 2.2.1, the library file in distribution wheels for macOS is built by the Apple Clang (Xcode_8.3.3) compiler.\n",
      "This means that in case of installing LightGBM from PyPI via the ``pip install lightgbm`` command, you don't need to install the gcc compiler anymore.\n",
      "Instead of that, you need to install the OpenMP library, which is required for running LightGBM on the system with the Apple Clang compiler.\n",
      "You can install the OpenMP library by the following command: ``brew install libomp``.\n",
      "  \"You can install the OpenMP library by the following command: ``brew install libomp``.\", UserWarning)\n"
     ]
    }
   ],
   "source": [
    "import json\n",
    "import lightgbm as lgb\n",
    "import pandas as pd\n",
    "from sklearn.metrics import mean_squared_error\n",
    "from sklearn.datasets import load_iris\n",
    "from sklearn.model_selection import train_test_split\n",
    "from sklearn.datasets import  make_classification"
   ]
  },
  {
   "cell_type": "code",
   "execution_count": 3,
   "metadata": {},
   "outputs": [
    {
     "name": "stdout",
     "output_type": "stream",
     "text": [
      "[1]\tvalid_0's l2: 0.513586\tvalid_0's auc: 1\n",
      "Training until validation scores don't improve for 5 rounds\n",
      "[2]\tvalid_0's l2: 0.466799\tvalid_0's auc: 1\n",
      "[3]\tvalid_0's l2: 0.422755\tvalid_0's auc: 1\n",
      "[4]\tvalid_0's l2: 0.384368\tvalid_0's auc: 1\n",
      "[5]\tvalid_0's l2: 0.348234\tvalid_0's auc: 1\n",
      "[6]\tvalid_0's l2: 0.317088\tvalid_0's auc: 1\n",
      "Early stopping, best iteration is:\n",
      "[1]\tvalid_0's l2: 0.513586\tvalid_0's auc: 1\n",
      "The rmse of prediction is: 0.7166490337513496\n"
     ]
    }
   ],
   "source": [
    "iris = load_iris()  \n",
    "data=iris.data\n",
    "target = iris.target\n",
    "X_train,X_test,y_train,y_test =train_test_split(data,target,test_size=0.2)\n",
    " \n",
    "lgb_train = lgb.Dataset(X_train, y_train) \n",
    "lgb_eval = lgb.Dataset(X_test, y_test, reference=lgb_train) \n",
    "\n",
    "\n",
    "params = {\n",
    "    'task': 'train',\n",
    "    'boosting_type': 'gbdt',  \n",
    "    'objective': 'regression', \n",
    "    'metric': {'l2', 'auc'}, \n",
    "    'num_leaves': 31, \n",
    "    'learning_rate': 0.05,  \n",
    "    'feature_fraction': 0.9, \n",
    "    'bagging_fraction': 0.8, \n",
    "    'bagging_freq': 5, \n",
    "    'verbose': 1 \n",
    "}\n",
    " \n",
    "\n",
    "gbm = lgb.train(params,lgb_train,num_boost_round=20,valid_sets=lgb_eval,early_stopping_rounds=5)\n",
    "gbm.save_model('model.txt')   \n",
    " \n",
    "y_pred = gbm.predict(X_test, num_iteration=gbm.best_iteration) \n",
    "print('The rmse of prediction is:', mean_squared_error(y_test, y_pred) ** 0.5) "
   ]
  },
  {
   "cell_type": "code",
   "execution_count": null,
   "metadata": {},
   "outputs": [],
   "source": []
  }
 ],
 "metadata": {
  "kernelspec": {
   "display_name": "Python 3",
   "language": "python",
   "name": "python3"
  },
  "language_info": {
   "codemirror_mode": {
    "name": "ipython",
    "version": 3
   },
   "file_extension": ".py",
   "mimetype": "text/x-python",
   "name": "python",
   "nbconvert_exporter": "python",
   "pygments_lexer": "ipython3",
   "version": "3.7.7"
  }
 },
 "nbformat": 4,
 "nbformat_minor": 4
}
